{
 "cells": [
  {
   "cell_type": "code",
   "execution_count": null,
   "id": "be979f2c-b39a-420b-a38a-e97e6b786326",
   "metadata": {},
   "outputs": [],
   "source": [
    "# You will be given an array and a limit value. You must check that all values \n",
    "# in the array are below or equal to the limit value. If they are, return True. \n",
    "# Else, return False.\n",
    "\n",
    "#Examples\n",
    "#Input: nums = [1, 2, 3, 4, 5, 6, 7, 8, 9, 0], limit_value = 10\n",
    "#Output = True \n",
    "#Explanation = All #s in the array are less than the limit value of 10\n",
    "\n",
    "# You can assume all values in the array are numbers."
   ]
  },
  {
   "cell_type": "code",
   "execution_count": 46,
   "id": "a4826c88-a7fa-4334-947e-07f604ef900f",
   "metadata": {},
   "outputs": [
    {
     "name": "stdout",
     "output_type": "stream",
     "text": [
      "True\n"
     ]
    }
   ],
   "source": [
    "### take in the list\n",
    "\n",
    "### compare the list and see if it is less than limit_value\n",
    "\n",
    "### if all of list is, return true\n",
    "        \n",
    "### if all of it is true, set to true\n",
    "def true_false(nums, limit_value):\n",
    "   \n",
    "    # if/else\n",
    "#     for num in nums:\n",
    "        \n",
    "#         if num > limit_value:\n",
    "#             return False\n",
    "        \n",
    "#     return True\n",
    "    \n",
    "    # if/else not\n",
    "#     for num in nums:\n",
    "#         if not num <= limit_value:\n",
    "#             return False\n",
    "#     return True\n",
    "    \n",
    "    # all\n",
    "#     bool_TF = all(num < limit_value for num in nums)\n",
    "#     return bool_TF\n",
    "    \n",
    "    # all one-liner\n",
    "    return all(num < limit_value for num in nums)\n",
    "\n",
    "nums = [1, 2, 3, 4, 5, 1, 2, 1, 9, 0] \n",
    "limit_value = 10\n",
    "\n",
    "print(true_false(nums, limit_value))\n",
    "\n"
   ]
  },
  {
   "cell_type": "code",
   "execution_count": null,
   "id": "40dae0ac-c1b6-449b-bc53-30381a17b051",
   "metadata": {},
   "outputs": [],
   "source": []
  }
 ],
 "metadata": {
  "kernelspec": {
   "display_name": "Python 3 (ipykernel)",
   "language": "python",
   "name": "python3"
  },
  "language_info": {
   "codemirror_mode": {
    "name": "ipython",
    "version": 3
   },
   "file_extension": ".py",
   "mimetype": "text/x-python",
   "name": "python",
   "nbconvert_exporter": "python",
   "pygments_lexer": "ipython3",
   "version": "3.11.5"
  }
 },
 "nbformat": 4,
 "nbformat_minor": 5
}
